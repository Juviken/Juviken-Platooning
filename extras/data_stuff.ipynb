{
 "cells": [
  {
   "cell_type": "markdown",
   "metadata": {},
   "source": [
    "## Data processing\n",
    "\n",
    "Intended for system identification usage\n",
    "\n",
    "See data loggers that are enabled in the launch files."
   ]
  },
  {
   "cell_type": "code",
   "execution_count": 2,
   "metadata": {},
   "outputs": [],
   "source": [
    "from data_processing import *\n",
    "import os\n",
    "import pandas as pd"
   ]
  },
  {
   "cell_type": "code",
   "execution_count": 7,
   "metadata": {},
   "outputs": [
    {
     "name": "stdout",
     "output_type": "stream",
     "text": [
      "Current working directory: c:\\Users\\Emil\\Documents\\GitHub\\Juviken-Platooning\\extras\n"
     ]
    }
   ],
   "source": [
    "directory = os.path.abspath(\"sensor_data\")  # Ensure absolute path\n",
    "data_files = []\n",
    "\n",
    "print(f\"Current working directory: {directory}\")"
   ]
  },
  {
   "cell_type": "code",
   "execution_count": 8,
   "metadata": {},
   "outputs": [
    {
     "name": "stdout",
     "output_type": "stream",
     "text": [
      "No files found in the specified directory.\n",
      "Select a file to load:\n"
     ]
    }
   ],
   "source": [
    "# Collect files from the directory\n",
    "for root, dirs, files in os.walk(directory):\n",
    "    for file in files:\n",
    "        data_files.append(os.path.join(root, file))\n",
    "\n",
    "# Handle empty directory case\n",
    "if not data_files:\n",
    "    print(\"No files found in the specified directory.\")\n",
    "\n",
    "\n",
    "# Print out data files as a list of options and wait for user input\n",
    "print(\"Select a file to load:\")\n",
    "for i, file in enumerate(data_files):\n",
    "    print(f\"{i}: {file}\")"
   ]
  }
 ],
 "metadata": {
  "kernelspec": {
   "display_name": "platooning",
   "language": "python",
   "name": "python3"
  },
  "language_info": {
   "codemirror_mode": {
    "name": "ipython",
    "version": 3
   },
   "file_extension": ".py",
   "mimetype": "text/x-python",
   "name": "python",
   "nbconvert_exporter": "python",
   "pygments_lexer": "ipython3",
   "version": "3.13.0"
  }
 },
 "nbformat": 4,
 "nbformat_minor": 2
}
